{
 "cells": [
  {
   "cell_type": "markdown",
   "metadata": {},
   "source": [
    "# My cats and dogs images classifyer"
   ]
  },
  {
   "cell_type": "code",
   "execution_count": 2,
   "metadata": {},
   "outputs": [],
   "source": [
    "import torch\n",
    "import numpy as np\n",
    "from torchvision import datasets\n",
    "import torchvision.transforms as transforms\n",
    "from torch.utils.data.sampler import SubsetRandomSampler\n"
   ]
  },
  {
   "cell_type": "markdown",
   "metadata": {},
   "source": [
    "## Let's see if there is a GPU available"
   ]
  },
  {
   "cell_type": "code",
   "execution_count": 3,
   "metadata": {},
   "outputs": [
    {
     "name": "stdout",
     "output_type": "stream",
     "text": [
      "CUDA is not available.  Training on CPU ...\n"
     ]
    }
   ],
   "source": [
    "# check if CUDA is available\n",
    "train_on_gpu = torch.cuda.is_available()\n",
    "\n",
    "if not train_on_gpu:\n",
    "    print('CUDA is not available.  Training on CPU ...')\n",
    "else:\n",
    "    print('CUDA is available!  Training on GPU ...')"
   ]
  },
  {
   "cell_type": "markdown",
   "metadata": {},
   "source": [
    "# Loading the data in\n",
    "In here i have defined a few transforms that will be applied to both training and test sets, and dome only to the training set.\n",
    "All the transforms are self explanatory"
   ]
  },
  {
   "cell_type": "code",
   "execution_count": 4,
   "metadata": {},
   "outputs": [],
   "source": [
    "train_dir = 'Cat_Dog_data/train'\n",
    "test_dir = 'Cat_Dog_data/test'\n",
    "\n",
    "train_transform = transforms.Compose([transforms.Resize(64),\n",
    "                                transforms.RandomResizedCrop(64),\n",
    "                                transforms.RandomHorizontalFlip(), # randomly flip and rotate\n",
    "                                transforms.RandomRotation(10),\n",
    "                                transforms.ToTensor(), \n",
    "                                transforms.Normalize((0.5, 0.5, 0.5), (0.5, 0.5, 0.5))\n",
    "                               ])\n",
    "\n",
    "test_transform = transforms.Compose([transforms.Resize(64),\n",
    "                                transforms.CenterCrop(64),\n",
    "                                transforms.ToTensor(), \n",
    "                                transforms.Normalize((0.5, 0.5, 0.5), (0.5, 0.5, 0.5))\n",
    "                               ])\n",
    "train_data = datasets.ImageFolder(train_dir, transform=train_transform)\n",
    "test_data = datasets.ImageFolder(test_dir, transform=test_transform)"
   ]
  },
  {
   "cell_type": "markdown",
   "metadata": {},
   "source": [
    "In her we separate out training set into trainset and validation set\n",
    "we fist define a the persentage of our trainning set we want our validation set to be \n",
    "then we make use of the sampler \"SubsetRandomSampler()\" from \"torch.utils.data.sampler\""
   ]
  },
  {
   "cell_type": "code",
   "execution_count": 5,
   "metadata": {},
   "outputs": [],
   "source": [
    "# seting the persentage of the validation size th 20%\n",
    "val_size = 0.2\n",
    "batch_size = 32\n",
    "# obtain training indices that will be used for validation\n",
    "len_train_set = len(train_data)\n",
    "\n",
    "# create a list that will hold all the indeces of the trainning dataset and shuffle this list\n",
    "indices = list(range(len_train_set))\n",
    "np.random.shuffle(indices)\n",
    "\n",
    "# np.floor(a) ---> gives the smalest int value closest to a\n",
    "split = int(np.floor(val_size * len_train_set))\n",
    "\n",
    "# isn't this beautiful... God!!! I love python \n",
    "train_idx, val_idx = indices[split:], indices[:split]\n",
    "\n",
    "# define samplers for obtaining training and validation batches\n",
    "train_sampler = SubsetRandomSampler(train_idx)\n",
    "val_sampler = SubsetRandomSampler(val_idx)"
   ]
  },
  {
   "cell_type": "code",
   "execution_count": 6,
   "metadata": {},
   "outputs": [],
   "source": [
    "# prepare data loaders (combine dataset and sampler)\n",
    "train_loader = torch.utils.data.DataLoader(train_data, batch_size=batch_size,\n",
    "    sampler=train_sampler)\n",
    "\n",
    "valid_loader = torch.utils.data.DataLoader(train_data, batch_size=batch_size, \n",
    "    sampler=val_sampler)\n",
    "\n",
    "test_loader = torch.utils.data.DataLoader(test_data, batch_size=batch_size, shuffle = True)"
   ]
  },
  {
   "cell_type": "code",
   "execution_count": 7,
   "metadata": {},
   "outputs": [],
   "source": [
    "# specify the image classes\n",
    "classes = [\"Cat\", \"Dog\"]"
   ]
  },
  {
   "cell_type": "markdown",
   "metadata": {},
   "source": [
    "## Let's visualize the data we imported"
   ]
  },
  {
   "cell_type": "code",
   "execution_count": 21,
   "metadata": {},
   "outputs": [],
   "source": [
    "import matplotlib.pyplot as plt\n",
    "%matplotlib inline\n",
    "\n",
    "# helper function to un-normalize and display an image\n",
    "def imshow(img):\n",
    "    img = img / 2 + 0.5  # unnormalize\n",
    "    plt.imshow(np.transpose(img, (1, 2, 0)))  # convert from Tensor image"
   ]
  },
  {
   "cell_type": "code",
   "execution_count": 8,
   "metadata": {},
   "outputs": [
    {
     "name": "stdout",
     "output_type": "stream",
     "text": [
      "tensor(1)\n"
     ]
    },
    {
     "data": {
      "image/png": "[encoded data removed]",
      "text/plain": [
       "<Figure size 432x288 with 1 Axes>"
      ]
     },
     "metadata": {
      "needs_background": "light"
     },
     "output_type": "display_data"
    }
   ],
   "source": [
    "images, lables = next(iter(train_loader))\n",
    "img_idx = 10\n",
    "img = images[img_idx]\n",
    "\n",
    "imshow(img)\n",
    "img.shape\n",
    "print(lables[img_idx])"
   ]
  },
  {
   "cell_type": "markdown",
   "metadata": {},
   "source": [
    "# Defining our Networks Archtecture"
   ]
  },
  {
   "cell_type": "code",
   "execution_count": 8,
   "metadata": {},
   "outputs": [
    {
     "name": "stdout",
     "output_type": "stream",
     "text": [
      "Classifier(\n",
      "  (conv1): Conv2d(3, 16, kernel_size=(3, 3), stride=(1, 1), padding=(1, 1))\n",
      "  (conv2): Conv2d(16, 32, kernel_size=(3, 3), stride=(1, 1), padding=(1, 1))\n",
      "  (conv3): Conv2d(32, 64, kernel_size=(3, 3), stride=(1, 1), padding=(1, 1))\n",
      "  (pool): MaxPool2d(kernel_size=2, stride=2, padding=0, dilation=1, ceil_mode=False)\n",
      "  (dropout): Dropout(p=0.3)\n",
      "  (fc1): Linear(in_features=4096, out_features=512, bias=True)\n",
      "  (fc2): Linear(in_features=512, out_features=512, bias=True)\n",
      "  (out): Linear(in_features=512, out_features=2, bias=True)\n",
      ")\n"
     ]
    }
   ],
   "source": [
    "import torch.nn as nn\n",
    "import torch.nn.functional as F\n",
    "\n",
    "# define the CNN architecture\n",
    "class Classifier(nn.Module):\n",
    "    def __init__(self):\n",
    "        super(Classifier,self).__init__()\n",
    "            # convolutions\n",
    "        self.conv1 = nn.Conv2d(3,16,3,padding=1)\n",
    "        self.conv2 = nn.Conv2d(16,32,3,padding=1)\n",
    "        self.conv3 = nn.Conv2d(32,64,3,padding=1)\n",
    "\n",
    "        # Max-pool\n",
    "        self.pool = nn.MaxPool2d(2,2)\n",
    "\n",
    "        # Dropout\n",
    "        self.dropout = nn.Dropout(p=0.3)\n",
    "        # Linear Layer\n",
    "        self.fc1 = nn.Linear(8*8*64,512)\n",
    "        self.fc2 = nn.Linear(512,512)\n",
    "\n",
    "        # output\n",
    "        self.out = nn.Linear(512,2)\n",
    "\n",
    "\n",
    "    def forward(self,x):\n",
    "        x = self.pool(F.relu(self.conv1(x)))\n",
    "        x = self.pool(F.relu(self.conv2(x)))\n",
    "        x = self.pool(F.relu(self.conv3(x)))\n",
    "\n",
    "        x = x.view(-1,8*8*64)\n",
    "\n",
    "        x = self.dropout(F.relu(self.fc1(x)))\n",
    "        x = self.dropout(F.relu(self.fc2(x)))\n",
    "\n",
    "        x = self.out(x)\n",
    "        #x = torch.sigmoid(x)\n",
    "        x = F.log_softmax(x, dim=1)\n",
    "        return x\n",
    "\n",
    "\n",
    "model =  Classifier()\n",
    "print(model)\n",
    "\n",
    "# move tensors to GPU if CUDA is available\n",
    "if train_on_gpu:\n",
    "    model.cuda()"
   ]
  },
  {
   "cell_type": "markdown",
   "metadata": {},
   "source": [
    "## Specify loss function and optimizer"
   ]
  },
  {
   "cell_type": "code",
   "execution_count": 12,
   "metadata": {},
   "outputs": [],
   "source": [
    "import torch.optim as optim\n",
    "\n",
    "# specify loss function\n",
    "criterion = nn.NLLLoss()\n",
    "# specify optimizer\n",
    "optimizer = optim.Adam(model.parameters(), lr = 0.001)"
   ]
  },
  {
   "cell_type": "markdown",
   "metadata": {},
   "source": [
    "# Training the Network"
   ]
  },
  {
   "cell_type": "code",
   "execution_count": 13,
   "metadata": {},
   "outputs": [],
   "source": [
    "epochs = 15\n",
    "train_losses, valid_losses, test_losses = [], [], []"
   ]
  },
  {
   "cell_type": "code",
   "execution_count": 137,
   "metadata": {},
   "outputs": [
    {
     "name": "stdout",
     "output_type": "stream",
     "text": [
      "Training started...\n",
      "Validating the model\n",
      "Epoch: 1 \tTraining Loss: 0.532483 \tValidation Loss: 0.124038\n",
      "Validation loss decreased (inf --> 0.124038).  Saving model ...\n",
      "789507.8361034393ms\n",
      "Validating the model\n",
      "Epoch: 2 \tTraining Loss: 0.490507 \tValidation Loss: 0.118168\n",
      "Validation loss decreased (0.124038 --> 0.118168).  Saving model ...\n",
      "408351.75824165344ms\n",
      "Validating the model\n",
      "Epoch: 3 \tTraining Loss: 0.473053 \tValidation Loss: 0.111267\n",
      "Validation loss decreased (0.118168 --> 0.111267).  Saving model ...\n",
      "407654.88839149475ms\n",
      "Validating the model\n",
      "Epoch: 4 \tTraining Loss: 0.455690 \tValidation Loss: 0.109896\n",
      "Validation loss decreased (0.111267 --> 0.109896).  Saving model ...\n",
      "411770.8134651184ms\n",
      "Validating the model\n",
      "Epoch: 5 \tTraining Loss: 0.447743 \tValidation Loss: 0.107937\n",
      "Validation loss decreased (0.109896 --> 0.107937).  Saving model ...\n",
      "404195.8305835724ms\n",
      "Validating the model\n",
      "Epoch: 6 \tTraining Loss: 0.433439 \tValidation Loss: 0.102226\n",
      "Validation loss decreased (0.107937 --> 0.102226).  Saving model ...\n",
      "412182.8520298004ms\n",
      "Validating the model\n",
      "Epoch: 7 \tTraining Loss: 0.432342 \tValidation Loss: 0.108095\n",
      "407243.2770729065ms\n",
      "Validating the model\n",
      "Epoch: 8 \tTraining Loss: 0.425401 \tValidation Loss: 0.104054\n",
      "403417.98520088196ms\n",
      "Validating the model\n",
      "Epoch: 9 \tTraining Loss: 0.416177 \tValidation Loss: 0.100379\n",
      "Validation loss decreased (0.102226 --> 0.100379).  Saving model ...\n",
      "414345.54648399353ms\n",
      "Validating the model\n",
      "Epoch: 10 \tTraining Loss: 0.413106 \tValidation Loss: 0.097810\n",
      "Validation loss decreased (0.100379 --> 0.097810).  Saving model ...\n",
      "409232.32102394104ms\n",
      "Validating the model\n",
      "Epoch: 11 \tTraining Loss: 0.408644 \tValidation Loss: 0.097069\n",
      "Validation loss decreased (0.097810 --> 0.097069).  Saving model ...\n",
      "400819.4463253021ms\n",
      "Validating the model\n",
      "Epoch: 12 \tTraining Loss: 0.399658 \tValidation Loss: 0.103393\n",
      "409842.09728240967ms\n",
      "Validating the model\n",
      "Epoch: 13 \tTraining Loss: 0.397591 \tValidation Loss: 0.095496\n",
      "Validation loss decreased (0.097069 --> 0.095496).  Saving model ...\n",
      "411726.722240448ms\n",
      "Validating the model\n",
      "Epoch: 14 \tTraining Loss: 0.389362 \tValidation Loss: 0.096352\n",
      "404948.17662239075ms\n",
      "Validating the model\n",
      "Epoch: 15 \tTraining Loss: 0.395510 \tValidation Loss: 0.095383\n",
      "Validation loss decreased (0.095496 --> 0.095383).  Saving model ...\n",
      "410731.71854019165ms\n"
     ]
    }
   ],
   "source": [
    "# number of epochs to train the model\n",
    "import time\n",
    "\n",
    "print(\"Training started...\")\n",
    "\n",
    "valid_loss_min = np.Inf # track change in validation loss and we make it infinity to see it go down\n",
    "\n",
    "for e in range(1, epochs+1):\n",
    "    tic = time.time()\n",
    "    # keep track of training and validation loss per bathc\n",
    "    train_loss = 0.0\n",
    "    valid_loss = 0.0\n",
    "    \n",
    "    ###################\n",
    "    # train the model #\n",
    "    ###################\n",
    "    model.train()\n",
    "    for images, labels in train_loader:\n",
    "        # move tensors to GPU if CUDA is available\n",
    "        if train_on_gpu:\n",
    "            images, labels = images.cuda(), labels.cuda()\n",
    "        # clear the gradients of all optimized variables\n",
    "        optimizer.zero_grad()\n",
    "        # forward pass: compute predicted outputs by passing inputs to the model\n",
    "        output = model(images)\n",
    "        # calculate the batch loss\n",
    "        loss = criterion(output, labels)\n",
    "        # backward pass: compute gradient of the loss with respect to model parameters\n",
    "        loss.backward()\n",
    "        # perform a single optimization step (parameter update)\n",
    "        optimizer.step()\n",
    "        # update training loss\n",
    "        # I don't get why we have to multiply by batch size \"*images.size(0)\"\n",
    "        train_loss += loss.item()*images.size(0)\n",
    "        #train_loss += loss.item()\n",
    "        \n",
    "    ######################    \n",
    "    # validate the model #\n",
    "    ######################\n",
    "    \n",
    "    print(\"Validating the model\")\n",
    "    \n",
    "    model.eval()\n",
    "    for images, labels in valid_loader:\n",
    "        # move tensors to GPU if CUDA is available\n",
    "        if train_on_gpu:\n",
    "            images, labels = images.cuda(), labels.cuda()\n",
    "        # forward pass: compute predicted outputs by passing inputs to the model\n",
    "        output = model(images)\n",
    "        # calculate the batch loss\n",
    "        loss = criterion(output, labels)\n",
    "        # update average validation loss \n",
    "        \n",
    "        \n",
    "        valid_loss += loss.item()*images.size(0)\n",
    "        \n",
    "    # calculate average losses\n",
    "    train_loss = train_loss/len(train_loader.dataset)\n",
    "    valid_loss = valid_loss/len(valid_loader.dataset)\n",
    "    \n",
    "    train_losses.append(train_loss)    \n",
    "    valid_losses.append(valid_loss)\n",
    "    # print training and validation statistics \n",
    "    print('Epoch: {} \\tTraining Loss: {:.6f} \\tValidation Loss: {:.6f}'.format(\n",
    "        e, train_loss, valid_loss))\n",
    "    \n",
    "    # save model if validation loss has decreased\n",
    "    if valid_loss <= valid_loss_min:\n",
    "        print('Validation loss decreased ({:.6f} --> {:.6f}).  Saving model ...'\n",
    "              .format(valid_loss_min, valid_loss))\n",
    "        \n",
    "        torch.save(model.state_dict(), '/Model states/model_cat_and_dog2.pt')\n",
    "        \n",
    "        valid_loss_min = valid_loss\n",
    "        \n",
    "    toc = time.time()\n",
    "    print(str((toc - tic) * 1000) + \"ms\")"
   ]
  },
  {
   "cell_type": "code",
   "execution_count": 12,
   "metadata": {},
   "outputs": [],
   "source": [
    "model.load_state_dict(torch.load('model_cat_and_dog2.pt'))"
   ]
  },
  {
   "cell_type": "code",
   "execution_count": 10,
   "metadata": {},
   "outputs": [],
   "source": [
    "model.load_state_dict(torch.load('C:/Users/Henok/Desktop/WEEK 1/Cats and Dogs/Model states/cat_and_dog_Classifier_model.pt'))"
   ]
  },
  {
   "cell_type": "markdown",
   "metadata": {},
   "source": [
    "## Time to test our model\n",
    "We imported the data, separated it into train, validation and test sets. We then created our NN model with 3 CNN layers, 3 Max-pool layers and 3 fully connected layers. Then we trained the network for 14 epochs and saved the model at the point where the validation loss stops decreasing and starts to rise. \n",
    "\n",
    "This is the moment of truth. Testing time using our model let's predict classes for the test set and see how good or bad the model does"
   ]
  },
  {
   "cell_type": "code",
   "execution_count": 14,
   "metadata": {},
   "outputs": [
    {
     "name": "stdout",
     "output_type": "stream",
     "text": [
      "Test Loss: 0.414945\n",
      "\n",
      "Test Accuracy of   Cat: 78% (978/1250)\n",
      "Test Accuracy of   Dog: 81% (1017/1250)\n",
      "\n",
      "Test Accuracy (Overall): 79% (1995/2500)\n"
     ]
    }
   ],
   "source": [
    "# track test loss\n",
    "\n",
    "test_loss = 0.0\n",
    "\n",
    "class_correct = list(0. for i in range(2))\n",
    "class_total = list(0. for i in range(2))\n",
    "\n",
    "model.eval()\n",
    "# iterate over test data\n",
    "\n",
    "for data, target in test_loader:\n",
    "    # move tensors to GPU if CUDA is available\n",
    "    if train_on_gpu:\n",
    "        data, target = data.cuda(), target.cuda()\n",
    "    # forward pass: compute predicted outputs by passing inputs to the model\n",
    "    output = model(data)\n",
    "    # calculate the batch loss\n",
    "    loss = criterion(output, target)\n",
    "    # update test loss \n",
    "    test_loss += loss.item()*data.size(0)\n",
    "    test_losses.append(test_loss)\n",
    "    # convert output probabilities to predicted class\n",
    "    _, pred = torch.max(output, 1)    \n",
    "    # compare predictions to true label\n",
    "    correct_tensor = pred.eq(target.data.view_as(pred))\n",
    "    \n",
    "    correct = np.squeeze(correct_tensor.numpy()) #if not train_on_gpu else np.squeeze(correct_tensor.cpu().numpy())\n",
    "    # calculate test accuracy for each object class\n",
    "    for i in range(data.shape[0]):\n",
    "        f = target.data[i]\n",
    "        class_correct[f] += correct[i].item()\n",
    "        class_total[f] += 1\n",
    "\n",
    "# average test loss\n",
    "test_loss = test_loss/len(test_loader.dataset)\n",
    "print('Test Loss: {:.6f}\\n'.format(test_loss))\n",
    "\n",
    "for i in range(2):\n",
    "    if class_total[i] > 0:\n",
    "        print('Test Accuracy of %5s: %2d%% (%2d/%2d)' % (\n",
    "            classes[i], 100 * class_correct[i] / class_total[i],\n",
    "            np.sum(class_correct[i]), np.sum(class_total[i])))\n",
    "    else:\n",
    "        print('Test Accuracy of %5s: N/A (no training examples)' % (classes[i]))\n",
    "\n",
    "print('\\nTest Accuracy (Overall): %2d%% (%2d/%2d)' % (\n",
    "    100. * np.sum(class_correct) / np.sum(class_total),\n",
    "    np.sum(class_correct), np.sum(class_total)))"
   ]
  },
  {
   "cell_type": "code",
   "execution_count": null,
   "metadata": {},
   "outputs": [],
   "source": [
    "%matplotlib inline\n",
    "%config IOnlineBackended.figure_format = 'retina'\n",
    "import matplotlib.pyplot as plt"
   ]
  },
  {
   "cell_type": "code",
   "execution_count": 148,
   "metadata": {},
   "outputs": [
    {
     "data": {
      "text/plain": [
       "<matplotlib.legend.Legend at 0x2c2a98d4c88>"
      ]
     },
     "execution_count": 148,
     "metadata": {},
     "output_type": "execute_result"
    },
    {
     "data": {
      "image/png": "[encoded data removed]",
      "text/plain": [
       "<Figure size 432x288 with 1 Axes>"
      ]
     },
     "metadata": {
      "needs_background": "light"
     },
     "output_type": "display_data"
    }
   ],
   "source": [
    "plt.plot(train_losses, label = \"Training Loss\")\n",
    "plt.plot(valid_losses, label = \"Validation Loss\")\n",
    "#plt.plot(test_losses, label = \"Test Loss\")\n",
    "plt.legend(frameon=False)"
   ]
  },
  {
   "cell_type": "code",
   "execution_count": 142,
   "metadata": {},
   "outputs": [
    {
     "data": {
      "text/plain": [
       "<matplotlib.legend.Legend at 0x2c2b4a0a780>"
      ]
     },
     "execution_count": 142,
     "metadata": {},
     "output_type": "execute_result"
    },
    {
     "data": {
      "image/png": "[encoded data removed]",
      "text/plain": [
       "<Figure size 432x288 with 1 Axes>"
      ]
     },
     "metadata": {
      "needs_background": "light"
     },
     "output_type": "display_data"
    }
   ],
   "source": [
    "plt.plot(valid_losses, label = \"Validation Loss\")\n",
    "plt.legend(frameon=False)"
   ]
  },
  {
   "cell_type": "code",
   "execution_count": 145,
   "metadata": {},
   "outputs": [
    {
     "data": {
      "text/plain": [
       "<matplotlib.legend.Legend at 0x2c28249a208>"
      ]
     },
     "execution_count": 145,
     "metadata": {},
     "output_type": "execute_result"
    },
    {
     "data": {
      "image/png": "[encoded data removed]",
      "text/plain": [
       "<Figure size 432x288 with 1 Axes>"
      ]
     },
     "metadata": {
      "needs_background": "light"
     },
     "output_type": "display_data"
    }
   ],
   "source": [
    "plt.plot(test_losses, label = \"Test Loss\")\n",
    "plt.legend(frameon=False)"
   ]
  },
  {
   "cell_type": "code",
   "execution_count": 46,
   "metadata": {},
   "outputs": [],
   "source": [
    "pred_data = datasets.ImageFolder('C:/Users/Henok/Pictures/cat/', transform=test_transform)\n",
    "pred_loader = torch.utils.data.DataLoader(pred_data, batch_size=3)"
   ]
  },
  {
   "cell_type": "code",
   "execution_count": 47,
   "metadata": {},
   "outputs": [],
   "source": [
    "image, label = next(iter(pred_loader))"
   ]
  },
  {
   "cell_type": "code",
   "execution_count": 48,
   "metadata": {},
   "outputs": [
    {
     "data": {
      "text/plain": [
       "tensor([[0.7966, 0.2034],\n",
       "        [0.6899, 0.3101],\n",
       "        [0.3300, 0.6700]], grad_fn=<ExpBackward>)"
      ]
     },
     "execution_count": 48,
     "metadata": {},
     "output_type": "execute_result"
    }
   ],
   "source": [
    "p = model(image)\n",
    "p = torch.exp(p)\n",
    "p"
   ]
  },
  {
   "cell_type": "code",
   "execution_count": 41,
   "metadata": {},
   "outputs": [
    {
     "ename": "TypeError",
     "evalue": "floor(): argument 'input' (position 1) must be Tensor, not tuple",
     "output_type": "error",
     "traceback": [
      "\u001b[1;31m---------------------------------------------------------------------------\u001b[0m",
      "\u001b[1;31mTypeError\u001b[0m                                 Traceback (most recent call last)",
      "\u001b[1;32m<ipython-input-41-d0db7932289c>\u001b[0m in \u001b[0;36m<module>\u001b[1;34m\u001b[0m\n\u001b[1;32m----> 1\u001b[1;33m \u001b[0mprediction\u001b[0m \u001b[1;33m=\u001b[0m \u001b[0mlist\u001b[0m\u001b[1;33m(\u001b[0m\u001b[0mtorch\u001b[0m\u001b[1;33m.\u001b[0m\u001b[0mfloor\u001b[0m\u001b[1;33m(\u001b[0m\u001b[0mtorch\u001b[0m\u001b[1;33m.\u001b[0m\u001b[0mmax\u001b[0m\u001b[1;33m(\u001b[0m\u001b[0mp\u001b[0m\u001b[1;33m,\u001b[0m \u001b[1;36m1\u001b[0m\u001b[1;33m)\u001b[0m\u001b[1;33m)\u001b[0m\u001b[1;33m)\u001b[0m\u001b[1;33m\u001b[0m\u001b[1;33m\u001b[0m\u001b[0m\n\u001b[0m\u001b[0;32m      2\u001b[0m \u001b[0mprediction\u001b[0m\u001b[1;33m\u001b[0m\u001b[1;33m\u001b[0m\u001b[0m\n",
      "\u001b[1;31mTypeError\u001b[0m: floor(): argument 'input' (position 1) must be Tensor, not tuple"
     ]
    }
   ],
   "source": []
  },
  {
   "cell_type": "code",
   "execution_count": 27,
   "metadata": {},
   "outputs": [],
   "source": [
    "torch.save(model.state_dict(), 'C:/Users/Henok/Desktop/WEEK 1/Cats and Dogs/Model states/cat_and_dog_Classifier_model.pt')"
   ]
  },
  {
   "cell_type": "code",
   "execution_count": null,
   "metadata": {},
   "outputs": [],
   "source": []
  },
  {
   "cell_type": "code",
   "execution_count": null,
   "metadata": {},
   "outputs": [],
   "source": []
  }
 ],
 "metadata": {
  "kernelspec": {
   "display_name": "Python 3",
   "language": "python",
   "name": "python3"
  },
  "language_info": {
   "codemirror_mode": {
    "name": "ipython",
    "version": 3
   },
   "file_extension": ".py",
   "mimetype": "text/x-python",
   "name": "python",
   "nbconvert_exporter": "python",
   "pygments_lexer": "ipython3",
   "version": "3.6.8"
  }
 },
 "nbformat": 4,
 "nbformat_minor": 2
}
